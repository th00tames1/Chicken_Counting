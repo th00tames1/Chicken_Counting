{
  "cells": [
    {
      "cell_type": "markdown",
      "metadata": {
        "id": "view-in-github",
        "colab_type": "text"
      },
      "source": [
        "<a href=\"https://colab.research.google.com/github/th00tames1/Chicken_Counting/blob/main/chicken_colab.ipynb\" target=\"_parent\"><img src=\"https://colab.research.google.com/assets/colab-badge.svg\" alt=\"Open In Colab\"/></a>"
      ]
    },
    {
      "cell_type": "code",
      "execution_count": null,
      "metadata": {
        "id": "Rfc4x3YoMtSY",
        "colab": {
          "base_uri": "https://localhost:8080/"
        },
        "outputId": "d9f91aaa-2375-4e32-cdaa-77ecd7051184"
      },
      "outputs": [
        {
          "output_type": "stream",
          "name": "stdout",
          "text": [
            "Drive already mounted at /content/drive; to attempt to forcibly remount, call drive.mount(\"/content/drive\", force_remount=True).\n"
          ]
        }
      ],
      "source": [
        "from google.colab import drive\n",
        "import os\n",
        "\n",
        "drive.mount('/content/drive')\n",
        "file_location = '/content/drive/My Drive/Chicken_Counting'\n",
        "yolo_location = '/content/drive/My Drive/Chicken_Counting/yolov5'\n",
        "os.chdir(file_location)"
      ]
    },
    {
      "cell_type": "markdown",
      "source": [
        "구글 드라이브 마운트"
      ],
      "metadata": {
        "id": "u0_4M3FuAf7g"
      }
    },
    {
      "cell_type": "code",
      "source": [
        "!curl -L \"https://app.roboflow.com/ds/PNQ5Qp0Mn4?key=jvWK9EBlKP\" > roboflow.zip; unzip roboflow.zip; rm roboflow.zip\n",
        "!git clone https://github.com/ultralytics/yolov5.git\n",
        "!cat ./data.yaml"
      ],
      "metadata": {
        "id": "0YDxhsHOAQ15"
      },
      "execution_count": null,
      "outputs": []
    },
    {
      "cell_type": "code",
      "source": [
        "!pip install -r ./yolov5/requirements.txt"
      ],
      "metadata": {
        "id": "bDu6fAjSoADV"
      },
      "execution_count": null,
      "outputs": []
    },
    {
      "cell_type": "markdown",
      "source": [
        "데이터셋 설치가 안되어 있을 경우 실행"
      ],
      "metadata": {
        "id": "XXUAVXNIAV4Q"
      }
    },
    {
      "cell_type": "code",
      "execution_count": null,
      "metadata": {
        "id": "nzrsQmnUOlsr"
      },
      "outputs": [],
      "source": [
        "from __future__ import absolute_import, division, print_function, nested_scopes, generators, with_statement, unicode_literals\n",
        "import yaml\n",
        "import subprocess\n",
        "from glob import glob #glob 라이브러리는 특정 확장자를 갖는 파일들의 리스트를 뽑아낼 때 사용\n",
        "\n",
        "os.chdir(file_location)\n",
        "train_img_list=glob(file_location+'/train/images/*.jpg')\n",
        "valid_img_list=glob(file_location+'/valid/images/*.jpg')\n",
        "\n",
        "with open('train.txt','w') as f1: \n",
        "  f1.write('\\n'.join(train_img_list)+'\\n')\n",
        "with open('val.txt','w') as f2: \n",
        "  f2.write('\\n'.join(valid_img_list)+'\\n')\n",
        "  \n",
        "with open('./data.yaml','r') as f3: \n",
        "  data=yaml.safe_load(f3) #일반 load 시 오류 발생\n",
        "\n",
        "data['train']=file_location+'/train.txt'\n",
        "data['val']=file_location+'/val.txt'\n",
        "\n",
        "with open('./data.yaml','w') as f4:\n",
        "  yaml.dump(data,f4)"
      ]
    },
    {
      "cell_type": "code",
      "execution_count": null,
      "metadata": {
        "id": "e9ipWCfrVWDW"
      },
      "outputs": [],
      "source": [
        "os.chdir(yolo_location)\n",
        "\n",
        "img_size=416\n",
        "batch_size=64\n",
        "epochs=500\n",
        "yolo_model='yolo5x'\n",
        "save_name='yolo5x_result'\n",
        "\n",
        "#exec()\n",
        "\n",
        "!python train.py --img 416 --batch 64 --epochs 500 --data ../data.yaml --cfg ./models/yolov5s.yaml --weights yolov5s.pt --name chicken_yolov5s_results\n",
        "!python train.py --img \"{img_size}\" --batch \"{batch_size}\" --epochs \"{epochs}\" --data ../data.yaml --cfg ./models/\"{yolo_model}\" --weights \"{yolo_model}\".pt --name \"{save_name}\""
      ]
    },
    {
      "cell_type": "markdown",
      "source": [
        "학습모델 지정"
      ],
      "metadata": {
        "id": "nPZkWywvEgYc"
      }
    },
    {
      "cell_type": "code",
      "execution_count": null,
      "metadata": {
        "id": "dA5bbp6ZfleW"
      },
      "outputs": [],
      "source": [
        "%load_ext tensorboard\n",
        "%tensorboard --logdir /content/yolov5/runs/"
      ]
    },
    {
      "cell_type": "code",
      "execution_count": null,
      "metadata": {
        "id": "Xm-0ePrbf_w_"
      },
      "outputs": [],
      "source": [
        "from IPython.display import Image\n",
        "import os\n",
        "\n",
        "%cd /content/yolov5/\n",
        "\n",
        "val_img_path = valid_img_list[0]\n",
        "print(val_img_path)\n",
        "\n",
        "!python detect.py --weights /content/yolov5/runs/train/chicken_yolov5m_results/weights/best.pt --img 416 --conf 0.5 --source \"{val_img_path}\"\n",
        "\n",
        "# # source 설명\n",
        "# python detect.py --source 0  # webcam\n",
        "#                             file.jpg  # image \n",
        "#                             file.mp4  # video\n",
        "#                             path/  # directory\n",
        "#                             path/*.jpg  # glob\n",
        "#                             'https://youtu.be/NUsoVlDFqZg'  # YouTube video\n",
        "#                             'rtsp://example.com/media.mp4'  # RTSP, RTMP, HTTP stream"
      ]
    },
    {
      "cell_type": "code",
      "execution_count": null,
      "metadata": {
        "id": "sldsClzDQBr0"
      },
      "outputs": [],
      "source": [
        "Image(os.path.join(yolo_location+'/inference/output',os.path.basename(val_img_path)))"
      ]
    }
  ],
  "metadata": {
    "accelerator": "GPU",
    "colab": {
      "collapsed_sections": [],
      "name": "chicken_colab",
      "provenance": [],
      "mount_file_id": "1xQVp0jiFWSFao_FSpz6byfAErDFtzj_U",
      "authorship_tag": "ABX9TyMFNFGzMhlse9xiN0MaZj7d",
      "include_colab_link": true
    },
    "kernelspec": {
      "display_name": "Python 3",
      "name": "python3"
    },
    "language_info": {
      "name": "python"
    }
  },
  "nbformat": 4,
  "nbformat_minor": 0
}